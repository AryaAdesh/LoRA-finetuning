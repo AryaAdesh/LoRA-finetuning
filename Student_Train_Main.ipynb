{
 "cells": [
  {
   "cell_type": "markdown",
   "metadata": {
    "_cell_guid": "5b9b6f84-5f51-4147-af68-aa769458938d",
    "_uuid": "24b2e027-08dc-4a47-9164-62ac8345eb90",
    "collapsed": false,
    "jupyter": {
     "outputs_hidden": false
    },
    "trusted": true
   },
   "source": [
    "# Notebook 3: Student Model Training (Distillation + Adversarial) - EDITED\n",
    "Purpose:\n",
    "1. Load pre-processed original and augmented AG News data.\n",
    "2. **Split combined data into Train/Validation (Rule Compliant).**\n",
    "3. Apply token masking augmentation to the training split.\n",
    "4. Calculate class weights for the training split.\n",
    "5. Load roberta-base student model + LoRA config.\n",
    "6. Load **fine-tuned LoRA roberta-large TEACHER model**.\n",
    "7. Configure and use a DistillationTrainer (Weighted CE + FGM Adversarial + Distillation Loss).\n",
    "8. Train the student model on GPU, validating on the created validation split.\n",
    "9. Evaluate, save the best student model adapter, visualize, and generate submission."
   ]
  },
  {
   "cell_type": "code",
   "execution_count": 73,
   "metadata": {
    "_cell_guid": "c0802454-7113-4762-a2b1-129d98972a2d",
    "_uuid": "507cb855-37ab-4ce1-822a-0aea088f5622",
    "collapsed": false,
    "execution": {
     "iopub.execute_input": "2025-04-18T19:35:23.627878Z",
     "iopub.status.busy": "2025-04-18T19:35:23.627594Z",
     "iopub.status.idle": "2025-04-18T19:35:23.631578Z",
     "shell.execute_reply": "2025-04-18T19:35:23.630764Z",
     "shell.execute_reply.started": "2025-04-18T19:35:23.627855Z"
    },
    "jupyter": {
     "outputs_hidden": false
    },
    "trusted": true
   },
   "outputs": [],
   "source": [
    "# Clear working directory for clean run\n",
    "# !rm -rf /kaggle/working/*"
   ]
  },
  {
   "cell_type": "code",
   "execution_count": 74,
   "metadata": {
    "_cell_guid": "ec5bb788-da96-4765-80d0-66411e295303",
    "_uuid": "f3e1c063-b73f-4f57-a4f8-06958d7c83f2",
    "collapsed": false,
    "execution": {
     "iopub.execute_input": "2025-04-18T19:35:23.641004Z",
     "iopub.status.busy": "2025-04-18T19:35:23.640739Z",
     "iopub.status.idle": "2025-04-18T19:35:23.649669Z",
     "shell.execute_reply": "2025-04-18T19:35:23.648955Z",
     "shell.execute_reply.started": "2025-04-18T19:35:23.640978Z"
    },
    "jupyter": {
     "outputs_hidden": false
    },
    "trusted": true
   },
   "outputs": [
    {
     "name": "stdout",
     "output_type": "stream",
     "text": [
      "Setting up environment...\n",
      "INFO: Hugging Face datasets cache directory set to: /kaggle/working/hf_datasets_cache\n"
     ]
    }
   ],
   "source": [
    "# --- Essential Imports ---\n",
    "import os\n",
    "import time\n",
    "import pickle\n",
    "import numpy as np\n",
    "import pandas as pd\n",
    "import torch\n",
    "import matplotlib.pyplot as plt\n",
    "import traceback\n",
    "import random\n",
    "import shutil\n",
    "import gc\n",
    "from collections import Counter\n",
    "from sklearn.utils.class_weight import compute_class_weight\n",
    "import torch.nn.functional as F\n",
    "\n",
    "from datasets import load_dataset, Dataset, ClassLabel, load_from_disk, concatenate_datasets, Features, Value\n",
    "from transformers import (\n",
    "    AutoTokenizer,                \n",
    "    AutoModelForSequenceClassification,\n",
    "    AutoConfig,\n",
    "    TrainingArguments,\n",
    "    Trainer,                      \n",
    "    DataCollatorWithPadding,\n",
    "    TrainerCallback,\n",
    "    SchedulerType,\n",
    "    TrainerState,\n",
    "    TrainerControl\n",
    ")\n",
    "from peft import LoraConfig, get_peft_model, PeftModel, TaskType \n",
    "from sklearn.metrics import accuracy_score, f1_score, confusion_matrix\n",
    "from sklearn.manifold import TSNE\n",
    "\n",
    "print(\"Setting up environment...\")\n",
    "\n",
    "# --- Cache Directory Setup ---\n",
    "cache_dir = \"/kaggle/working/hf_datasets_cache\"\n",
    "os.environ['HF_DATASETS_CACHE'] = cache_dir\n",
    "os.environ['DATASETS_CACHE'] = cache_dir\n",
    "os.makedirs(cache_dir, exist_ok=True)\n",
    "print(f\"INFO: Hugging Face datasets cache directory set to: {os.environ.get('HF_DATASETS_CACHE')}\")"
   ]
  },
  {
   "cell_type": "code",
   "execution_count": 75,
   "metadata": {
    "_cell_guid": "330d407e-f153-45b9-906c-88bbaa2e78fc",
    "_uuid": "cd648693-dea5-4962-ad77-8d6d2fa51550",
    "collapsed": false,
    "execution": {
     "iopub.execute_input": "2025-04-18T19:35:23.651049Z",
     "iopub.status.busy": "2025-04-18T19:35:23.650782Z",
     "iopub.status.idle": "2025-04-18T19:35:23.670410Z",
     "shell.execute_reply": "2025-04-18T19:35:23.669606Z",
     "shell.execute_reply.started": "2025-04-18T19:35:23.651028Z"
    },
    "jupyter": {
     "outputs_hidden": false
    },
    "trusted": true
   },
   "outputs": [],
   "source": [
    "# --- Configuration ---\n",
    "student_base_model_name = 'roberta-base'\n",
    "teacher_base_model_name = 'roberta-large'\n",
    "dataset_name = 'ag_news'\n",
    "\n",
    "# --- Paths ---\n",
    "cleaned_original_load_path = \"/kaggle/input/cleanedorig\"\n",
    "tokenized_augmented_load_path = \"/kaggle/input/cleanedaugmenteddata\" \n",
    "# *** Path to the uploaded TEACHER LoRA adapter directory ***\n",
    "TEACHER_ADAPTER_PATH = \"/kaggle/input/teacherrobertalarge/transformers/1/1\" \n",
    "\n",
    "# Output paths for the STUDENT model\n",
    "output_dir_student = \"/kaggle/working/results_student_distill\" \n",
    "final_student_model_save_path = \"/kaggle/working/agnews_best_student_distill_3\" \n",
    "\n",
    "# --- Student LoRA settings ---\n",
    "LORA_R = 2\n",
    "LORA_ALPHA = 4\n",
    "LORA_DROPOUT = 0.05 \n",
    "LORA_TARGET_MODULES = ['query']\n",
    "\n",
    "# --- Adversarial settings for Student ---\n",
    "ADVERSARIAL_EPSILON = 1.5 \n",
    "\n",
    "# --- Distillation settings ---\n",
    "DISTILLATION_ALPHA = 0.5 \n",
    "DISTILLATION_TEMP = 2.0  \n",
    "\n",
    "# --- Masking settings ---\n",
    "MASKING_PROBABILITY = 0.20 \n",
    "\n",
    "# --- Tokenizer settings ---\n",
    "TOKENIZER_MAX_LENGTH = 512\n",
    "\n",
    "# --- Validation Split Size ---\n",
    "VALIDATION_SET_SIZE = 0.1 # Use 10% of combined train+aug for validation"
   ]
  },
  {
   "cell_type": "code",
   "execution_count": 76,
   "metadata": {
    "_cell_guid": "a1d6840c-b7ea-4d3e-9cec-83d3f25933f6",
    "_uuid": "e7770b80-3a9a-4f08-8056-f0e038916903",
    "collapsed": false,
    "execution": {
     "iopub.execute_input": "2025-04-18T19:35:23.671989Z",
     "iopub.status.busy": "2025-04-18T19:35:23.671720Z",
     "iopub.status.idle": "2025-04-18T19:35:23.692623Z",
     "shell.execute_reply": "2025-04-18T19:35:23.691941Z",
     "shell.execute_reply.started": "2025-04-18T19:35:23.671969Z"
    },
    "jupyter": {
     "outputs_hidden": false
    },
    "trusted": true
   },
   "outputs": [
    {
     "name": "stdout",
     "output_type": "stream",
     "text": [
      "GPU available: Tesla P100-PCIE-16GB\n"
     ]
    }
   ],
   "source": [
    "# --- GPU Check ---\n",
    "if torch.cuda.is_available(): device = torch.device(\"cuda\"); print(f\"GPU available: {torch.cuda.get_device_name(0)}\")\n",
    "else: device = torch.device(\"cpu\"); print(\"WARNING: GPU not available.\")"
   ]
  },
  {
   "cell_type": "code",
   "execution_count": 77,
   "metadata": {
    "_cell_guid": "84c8340b-aba8-4e94-b4df-4ed739b62dd7",
    "_uuid": "782ed1f0-120d-47ff-bd9b-de0570fa7ed5",
    "collapsed": false,
    "execution": {
     "iopub.execute_input": "2025-04-18T19:35:23.693898Z",
     "iopub.status.busy": "2025-04-18T19:35:23.693623Z",
     "iopub.status.idle": "2025-04-18T19:35:24.020046Z",
     "shell.execute_reply": "2025-04-18T19:35:24.019419Z",
     "shell.execute_reply.started": "2025-04-18T19:35:23.693876Z"
    },
    "jupyter": {
     "outputs_hidden": false
    },
    "trusted": true
   },
   "outputs": [
    {
     "name": "stdout",
     "output_type": "stream",
     "text": [
      "Loading tokenizer for student: roberta-base\n"
     ]
    }
   ],
   "source": [
    "# --- Load Tokenizer ---\n",
    "print(f\"Loading tokenizer for student: {student_base_model_name}\")\n",
    "try:\n",
    "    tokenizer = AutoTokenizer.from_pretrained(student_base_model_name)\n",
    "    # Define mask/pad tokens\n",
    "    MASK_TOKEN_ID = tokenizer.mask_token_id\n",
    "    PAD_TOKEN_ID = tokenizer.pad_token_id\n",
    "    CLS_TOKEN_ID = tokenizer.cls_token_id\n",
    "    SEP_TOKEN_ID = tokenizer.sep_token_id\n",
    "except Exception as e: print(f\"ERROR: Failed to load tokenizer: {e}\"); raise e"
   ]
  },
  {
   "cell_type": "code",
   "execution_count": 78,
   "metadata": {
    "_cell_guid": "d960518e-9447-46fd-995e-b319622f74d4",
    "_uuid": "b2d09208-7ede-422e-815b-9fd1ffa23673",
    "collapsed": false,
    "execution": {
     "iopub.execute_input": "2025-04-18T19:35:24.021715Z",
     "iopub.status.busy": "2025-04-18T19:35:24.021486Z",
     "iopub.status.idle": "2025-04-18T19:35:24.026025Z",
     "shell.execute_reply": "2025-04-18T19:35:24.025341Z",
     "shell.execute_reply.started": "2025-04-18T19:35:24.021697Z"
    },
    "jupyter": {
     "outputs_hidden": false
    },
    "trusted": true
   },
   "outputs": [],
   "source": [
    "# --- Label Info ---\n",
    "num_labels = 4; id2label = {0: 'World', 1: 'Sports', 2: 'Business', 3: 'Sci/Tech'}\n",
    "label2id = {v: k for k, v in id2label.items()}; class_names = list(id2label.values())\n",
    "labels_feature_definition = ClassLabel(num_classes=num_labels, names=class_names)"
   ]
  },
  {
   "cell_type": "code",
   "execution_count": 79,
   "metadata": {
    "_cell_guid": "e85335a2-e53c-4987-89a1-881e7066707b",
    "_uuid": "d4d9bd19-c708-4d0b-9562-a7899e4da522",
    "collapsed": false,
    "execution": {
     "iopub.execute_input": "2025-04-18T19:35:24.027002Z",
     "iopub.status.busy": "2025-04-18T19:35:24.026779Z",
     "iopub.status.idle": "2025-04-18T19:35:25.312114Z",
     "shell.execute_reply": "2025-04-18T19:35:25.311459Z",
     "shell.execute_reply.started": "2025-04-18T19:35:24.026986Z"
    },
    "jupyter": {
     "outputs_hidden": false
    },
    "trusted": true
   },
   "outputs": [
    {
     "name": "stdout",
     "output_type": "stream",
     "text": [
      "INFO: Attempting to load CLEANED ORIGINAL data from: /kaggle/input/cleanedorig\n",
      "INFO: Loaded original data from input (114832 examples).\n",
      "INFO: Saving original dataset temporarily to /kaggle/working/original_dataset_temp...\n"
     ]
    },
    {
     "data": {
      "application/vnd.jupyter.widget-view+json": {
       "model_id": "86d35638d1f147e68cd80e31cda2e737",
       "version_major": 2,
       "version_minor": 0
      },
      "text/plain": [
       "Saving the dataset (0/1 shards):   0%|          | 0/114832 [00:00<?, ? examples/s]"
      ]
     },
     "metadata": {},
     "output_type": "display_data"
    },
    {
     "name": "stdout",
     "output_type": "stream",
     "text": [
      "INFO: Reloading original dataset from writable path...\n",
      "INFO: Original dataset reloaded successfully from /kaggle/working.\n",
      "INFO: Removing temporary original save directory: /kaggle/working/original_dataset_temp\n",
      "INFO: Extracted ClassLabel features: ClassLabel(names=['World', 'Sports', 'Business', 'Sci/Tech'], id=None)\n",
      "\n",
      "INFO: Attempting to load TOKENIZED AUGMENTED data from: /kaggle/input/cleanedaugmenteddata\n",
      "INFO: Loaded augmented data from input (114832 examples).\n",
      "INFO: Saving augmented dataset temporarily to /kaggle/working/augmented_dataset_temp...\n"
     ]
    },
    {
     "data": {
      "application/vnd.jupyter.widget-view+json": {
       "model_id": "871ff27d15c74945b06ecd3fcc9c0037",
       "version_major": 2,
       "version_minor": 0
      },
      "text/plain": [
       "Saving the dataset (0/1 shards):   0%|          | 0/114832 [00:00<?, ? examples/s]"
      ]
     },
     "metadata": {},
     "output_type": "display_data"
    },
    {
     "name": "stdout",
     "output_type": "stream",
     "text": [
      "INFO: Reloading augmented dataset from writable path...\n",
      "INFO: Augmented dataset reloaded successfully from /kaggle/working.\n",
      "INFO: Removing temporary augmented save directory: /kaggle/working/augmented_dataset_temp\n"
     ]
    }
   ],
   "source": [
    "# --- Load CLEANED ORIGINAL data ---\n",
    "print(f\"INFO: Attempting to load CLEANED ORIGINAL data from: {cleaned_original_load_path}\")\n",
    "original_ds_reloaded = None\n",
    "if os.path.exists(cleaned_original_load_path):\n",
    "    try:\n",
    "        loaded_cleaned_original_ds_input = load_from_disk(cleaned_original_load_path)\n",
    "        print(f\"INFO: Loaded original data from input ({len(loaded_cleaned_original_ds_input)} examples).\")\n",
    "\n",
    "        # --- WORKAROUND START for Original Data ---\n",
    "        temp_orig_save_path = \"/kaggle/working/original_dataset_temp\"\n",
    "        print(f\"INFO: Saving original dataset temporarily to {temp_orig_save_path}...\")\n",
    "        loaded_cleaned_original_ds_input.save_to_disk(temp_orig_save_path)\n",
    "        original_features_ref = loaded_cleaned_original_ds_input.features # Save features before deleting\n",
    "        del loaded_cleaned_original_ds_input\n",
    "        gc.collect(); torch.cuda.empty_cache()\n",
    "        print(\"INFO: Reloading original dataset from writable path...\")\n",
    "        original_ds_reloaded = load_from_disk(temp_orig_save_path)\n",
    "        # Restore features if necessary\n",
    "        if original_ds_reloaded.features != original_features_ref:\n",
    "             print(\"INFO: Re-applying original features to reloaded dataset...\")\n",
    "             original_ds_reloaded = original_ds_reloaded.cast(original_features_ref)\n",
    "        print(\"INFO: Original dataset reloaded successfully from /kaggle/working.\")\n",
    "        try:\n",
    "             print(f\"INFO: Removing temporary original save directory: {temp_orig_save_path}\")\n",
    "             shutil.rmtree(temp_orig_save_path)\n",
    "        except Exception as e_rm: print(f\"WARNING: Could not remove {temp_orig_save_path}: {e_rm}\")\n",
    "        # --- WORKAROUND END for Original Data ---\n",
    "\n",
    "        # Get the label feature info from the reloaded dataset\n",
    "        if 'labels' in original_ds_reloaded.features and isinstance(original_ds_reloaded.features['labels'], ClassLabel):\n",
    "             original_labels_feature = original_ds_reloaded.features['labels']\n",
    "             if original_labels_feature.num_classes != num_labels or original_labels_feature.names != class_names: \n",
    "                  print(\"Warning: Loaded original label feature mismatch. Re-casting.\")\n",
    "                  original_ds_reloaded = original_ds_reloaded.cast_column('labels', labels_feature_definition); original_labels_feature = original_ds_reloaded.features['labels']\n",
    "             print(f\"INFO: Extracted ClassLabel features: {original_labels_feature}\")\n",
    "        else: raise ValueError(\"Reloaded original dataset missing ClassLabel feature.\")\n",
    "\n",
    "    except Exception as e: print(f\"ERROR loading/processing original: {e}\"); raise e\n",
    "else: raise FileNotFoundError(f\"Path not found: {cleaned_original_load_path}\")\n",
    "\n",
    "\n",
    "# --- Load TOKENIZED AUGMENTED data ---\n",
    "print(f\"\\nINFO: Attempting to load TOKENIZED AUGMENTED data from: {tokenized_augmented_load_path}\")\n",
    "augmented_ds_reloaded = None # Define outside try\n",
    "if os.path.exists(tokenized_augmented_load_path):\n",
    "     try:\n",
    "         loaded_tokenized_augmented_ds_input = load_from_disk(tokenized_augmented_load_path)\n",
    "         print(f\"INFO: Loaded augmented data from input ({len(loaded_tokenized_augmented_ds_input)} examples).\")\n",
    "\n",
    "         temp_aug_save_path = \"/kaggle/working/augmented_dataset_temp\"\n",
    "         print(f\"INFO: Saving augmented dataset temporarily to {temp_aug_save_path}...\")\n",
    "         loaded_tokenized_augmented_ds_input.save_to_disk(temp_aug_save_path)\n",
    "         augmented_features_ref = loaded_tokenized_augmented_ds_input.features\n",
    "         del loaded_tokenized_augmented_ds_input\n",
    "         gc.collect(); torch.cuda.empty_cache()\n",
    "         print(\"INFO: Reloading augmented dataset from writable path...\")\n",
    "         augmented_ds_reloaded = load_from_disk(temp_aug_save_path)\n",
    "         if augmented_ds_reloaded.features != augmented_features_ref:\n",
    "              print(\"INFO: Re-applying augmented features to reloaded dataset...\")\n",
    "              augmented_ds_reloaded = augmented_ds_reloaded.cast(augmented_features_ref)\n",
    "         print(\"INFO: Augmented dataset reloaded successfully from /kaggle/working.\")\n",
    "         try:\n",
    "              print(f\"INFO: Removing temporary augmented save directory: {temp_aug_save_path}\")\n",
    "              shutil.rmtree(temp_aug_save_path)\n",
    "         except Exception as e_rm: print(f\"WARNING: Could not remove {temp_aug_save_path}: {e_rm}\")\n",
    "\n",
    "         # Verify/cast labels using the original_labels_feature from the reloaded original DS\n",
    "         # Use the reloaded variable here:\n",
    "         if augmented_ds_reloaded.features['labels'] != original_labels_feature:\n",
    "             print(\"WARNING: Reloaded augmented dataset labels feature mismatch! Casting...\")\n",
    "             augmented_ds_reloaded = augmented_ds_reloaded.cast_column('labels', original_labels_feature)\n",
    "\n",
    "     except Exception as e: print(f\"ERROR loading/processing augmented: {e}\"); raise e\n",
    "else: raise FileNotFoundError(f\"Path not found: {tokenized_augmented_load_path}\")"
   ]
  },
  {
   "cell_type": "code",
   "execution_count": 80,
   "metadata": {
    "_cell_guid": "71d04f87-ecf2-451e-bb4c-6d3d593fe6f8",
    "_uuid": "225d5981-97b3-49b4-9b09-e182e3f06fd4",
    "collapsed": false,
    "execution": {
     "iopub.execute_input": "2025-04-18T19:35:25.313138Z",
     "iopub.status.busy": "2025-04-18T19:35:25.312873Z",
     "iopub.status.idle": "2025-04-18T19:35:25.744984Z",
     "shell.execute_reply": "2025-04-18T19:35:25.744412Z",
     "shell.execute_reply.started": "2025-04-18T19:35:25.313114Z"
    },
    "jupyter": {
     "outputs_hidden": false
    },
    "trusted": true
   },
   "outputs": [
    {
     "name": "stdout",
     "output_type": "stream",
     "text": [
      "\n",
      "INFO: Combining RELOADED original and RELOADED augmented datasets...\n",
      "Combined dataset created (Orig+Aug) with 229664 examples.\n",
      "Intermediate loaded datasets cleaned up.\n"
     ]
    }
   ],
   "source": [
    "# --- Combine Original + Augmented Data (Using Reloaded Objects) ---\n",
    "print(\"\\nINFO: Combining RELOADED original and RELOADED augmented datasets...\")\n",
    "required_columns = ['input_ids', 'attention_mask', 'labels']\n",
    "try:\n",
    "    train_dataset_for_concat = original_ds_reloaded.select_columns(required_columns)\n",
    "    tokenized_augmented_dataset_for_concat = augmented_ds_reloaded.select_columns(required_columns)\n",
    "except Exception as e:\n",
    "    print(f\"ERROR during column selection/prep for concat: {e}\")\n",
    "    raise e\n",
    "\n",
    "combined_dataset_all = concatenate_datasets([train_dataset_for_concat, tokenized_augmented_dataset_for_concat])\n",
    "print(f\"Combined dataset created (Orig+Aug) with {len(combined_dataset_all)} examples.\")\n",
    "\n",
    "# Clean up intermediate objects\n",
    "del train_dataset_for_concat, tokenized_augmented_dataset_for_concat, original_ds_reloaded, augmented_ds_reloaded\n",
    "gc.collect(); torch.cuda.empty_cache()\n",
    "print(\"Intermediate loaded datasets cleaned up.\")"
   ]
  },
  {
   "cell_type": "code",
   "execution_count": 81,
   "metadata": {
    "execution": {
     "iopub.execute_input": "2025-04-18T19:35:25.745958Z",
     "iopub.status.busy": "2025-04-18T19:35:25.745722Z",
     "iopub.status.idle": "2025-04-18T19:35:25.750694Z",
     "shell.execute_reply": "2025-04-18T19:35:25.750005Z",
     "shell.execute_reply.started": "2025-04-18T19:35:25.745925Z"
    },
    "trusted": true
   },
   "outputs": [],
   "source": [
    "def random_token_masking(examples):\n",
    "    all_input_ids = examples['input_ids']; new_input_ids = []\n",
    "    for input_ids_list in all_input_ids:\n",
    "        input_ids = list(input_ids_list); len_ids = len(input_ids)\n",
    "        for i in range(len_ids):\n",
    "            if input_ids[i] in [PAD_TOKEN_ID, CLS_TOKEN_ID, SEP_TOKEN_ID, MASK_TOKEN_ID]: continue\n",
    "            if random.random() < MASKING_PROBABILITY: input_ids[i] = MASK_TOKEN_ID\n",
    "        new_input_ids.append(input_ids)\n",
    "    examples['input_ids'] = new_input_ids\n",
    "    return examples\n"
   ]
  },
  {
   "cell_type": "code",
   "execution_count": 82,
   "metadata": {
    "_cell_guid": "29d62096-0b14-477c-825b-840ff48956a7",
    "_uuid": "a3f7c4bb-7e89-441d-8845-2823bad12f7e",
    "collapsed": false,
    "execution": {
     "iopub.execute_input": "2025-04-18T19:35:25.752244Z",
     "iopub.status.busy": "2025-04-18T19:35:25.751543Z",
     "iopub.status.idle": "2025-04-18T19:35:44.283119Z",
     "shell.execute_reply": "2025-04-18T19:35:44.282255Z",
     "shell.execute_reply.started": "2025-04-18T19:35:25.752219Z"
    },
    "jupyter": {
     "outputs_hidden": false
    },
    "trusted": true
   },
   "outputs": [
    {
     "name": "stdout",
     "output_type": "stream",
     "text": [
      "INFO: Splitting combined data into Train/Validation (90%/10%)...\n",
      "Train split size: 206697\n",
      "Validation split size: 22967\n",
      "INFO: Applying random token masking to the TRAINING split (probability 0.2)...\n"
     ]
    },
    {
     "data": {
      "application/vnd.jupyter.widget-view+json": {
       "model_id": "d5527bdf77f14e65bf38f8a389b9af77",
       "version_major": 2,
       "version_minor": 0
      },
      "text/plain": [
       "Map:   0%|          | 0/206697 [00:00<?, ? examples/s]"
      ]
     },
     "metadata": {},
     "output_type": "display_data"
    },
    {
     "name": "stdout",
     "output_type": "stream",
     "text": [
      "INFO: Random token masking applied to training data.\n",
      "Final training dataset features: {'input_ids': Sequence(feature=Value(dtype='int32', id=None), length=-1, id=None), 'attention_mask': Sequence(feature=Value(dtype='int8', id=None), length=-1, id=None), 'labels': ClassLabel(names=['World', 'Sports', 'Business', 'Sci/Tech'], id=None)}\n",
      "Final validation dataset features: {'input_ids': Sequence(feature=Value(dtype='int32', id=None), length=-1, id=None), 'attention_mask': Sequence(feature=Value(dtype='int8', id=None), length=-1, id=None), 'labels': ClassLabel(names=['World', 'Sports', 'Business', 'Sci/Tech'], id=None)}\n"
     ]
    }
   ],
   "source": [
    "# --- Create Train/Validation Split from Combined Data ---\n",
    "print(f\"INFO: Splitting combined data into Train/Validation ({1.0-VALIDATION_SET_SIZE:.0%}/{VALIDATION_SET_SIZE:.0%})...\")\n",
    "# Ensure 'combined_dataset_all' (Orig+Aug) exists from the previous cell\n",
    "if 'combined_dataset_all' not in locals():\n",
    "    raise NameError(\"combined_dataset_all not found. Check previous cell.\")\n",
    "\n",
    "combined_dataset_shuffled = combined_dataset_all.shuffle(seed=42)\n",
    "split_datasets = combined_dataset_shuffled.train_test_split(\n",
    "    test_size=VALIDATION_SET_SIZE,\n",
    "    seed=42,\n",
    "    shuffle=False # Already shuffled\n",
    ")\n",
    "\n",
    "train_dataset_split = split_datasets['train']\n",
    "eval_dataset_split = split_datasets['test']\n",
    "\n",
    "print(f\"Train split size: {len(train_dataset_split)}\")\n",
    "print(f\"Validation split size: {len(eval_dataset_split)}\")\n",
    "\n",
    "# Clean up intermediate objects\n",
    "del combined_dataset_all, combined_dataset_shuffled, split_datasets\n",
    "gc.collect(); torch.cuda.empty_cache()\n",
    "\n",
    "\n",
    "# --- Apply Masking ONLY to the Training Split ---\n",
    "print(f\"INFO: Applying random token masking to the TRAINING split (probability {MASKING_PROBABILITY})...\")\n",
    "\n",
    "# Apply the masking function defined earlier to the training split\n",
    "train_dataset_masked = train_dataset_split.map(\n",
    "    random_token_masking,\n",
    "    batched=True,\n",
    ")\n",
    "print(\"INFO: Random token masking applied to training data.\")\n",
    "\n",
    "# --- Define final datasets for Trainer ---\n",
    "train_dataset_for_final_run = train_dataset_masked\n",
    "eval_dataset_for_final_run = eval_dataset_split\n",
    "\n",
    "print(f\"Final training dataset features: {train_dataset_for_final_run.features}\")\n",
    "print(f\"Final validation dataset features: {eval_dataset_for_final_run.features}\")\n",
    "\n",
    "\n",
    "# Clean up intermediate dataset objects\n",
    "del train_dataset_split, train_dataset_masked\n",
    "gc.collect(); torch.cuda.empty_cache()"
   ]
  },
  {
   "cell_type": "code",
   "execution_count": 83,
   "metadata": {
    "_cell_guid": "fe520e0e-071b-4586-954d-9f24f1025410",
    "_uuid": "5af1a84a-9abf-4df0-ac6a-7684c3b6c093",
    "collapsed": false,
    "execution": {
     "iopub.execute_input": "2025-04-18T19:35:44.284260Z",
     "iopub.status.busy": "2025-04-18T19:35:44.283980Z",
     "iopub.status.idle": "2025-04-18T19:35:44.402017Z",
     "shell.execute_reply": "2025-04-18T19:35:44.401157Z",
     "shell.execute_reply.started": "2025-04-18T19:35:44.284233Z"
    },
    "jupyter": {
     "outputs_hidden": false
    },
    "trusted": true
   },
   "outputs": [
    {
     "name": "stdout",
     "output_type": "stream",
     "text": [
      "Calculating class weights for the training dataset...\n",
      "Training class weights: tensor([1.0199, 0.9616, 1.0183, 1.0024])\n"
     ]
    }
   ],
   "source": [
    "# --- Calculate Class Weights for the definitive Training Split ---\n",
    "print(\"Calculating class weights for the training dataset...\")\n",
    "all_labels_final = np.array(train_dataset_for_final_run['labels'])\n",
    "class_weights = compute_class_weight('balanced', classes=np.unique(all_labels_final), y=all_labels_final)\n",
    "class_weights_tensor = torch.tensor(class_weights, dtype=torch.float)\n",
    "print(f\"Training class weights: {class_weights_tensor}\")"
   ]
  },
  {
   "cell_type": "code",
   "execution_count": 84,
   "metadata": {
    "_cell_guid": "e250d729-fb8e-4b04-8b9f-d97faac635e4",
    "_uuid": "5169cb1c-ecd5-4698-b4e0-4038653bbf00",
    "collapsed": false,
    "execution": {
     "iopub.execute_input": "2025-04-18T19:35:44.404734Z",
     "iopub.status.busy": "2025-04-18T19:35:44.404517Z",
     "iopub.status.idle": "2025-04-18T19:35:45.849722Z",
     "shell.execute_reply": "2025-04-18T19:35:45.849052Z",
     "shell.execute_reply.started": "2025-04-18T19:35:44.404718Z"
    },
    "jupyter": {
     "outputs_hidden": false
    },
    "trusted": true
   },
   "outputs": [
    {
     "name": "stdout",
     "output_type": "stream",
     "text": [
      "--- Loading Teacher Model (roberta-large + LoRA) ---\n",
      "Loading teacher base model: roberta-large\n"
     ]
    },
    {
     "name": "stderr",
     "output_type": "stream",
     "text": [
      "Some weights of RobertaForSequenceClassification were not initialized from the model checkpoint at roberta-large and are newly initialized: ['classifier.dense.bias', 'classifier.dense.weight', 'classifier.out_proj.bias', 'classifier.out_proj.weight']\n",
      "You should probably TRAIN this model on a down-stream task to be able to use it for predictions and inference.\n"
     ]
    },
    {
     "name": "stdout",
     "output_type": "stream",
     "text": [
      "Loading teacher LoRA adapter from: /kaggle/input/teacherrobertalarge/transformers/1/1\n",
      "Teacher model loaded, frozen, and set to eval mode.\n"
     ]
    }
   ],
   "source": [
    "# --- Load Fine-tuned TEACHER Model (LoRA roberta-large) ---\n",
    "print(f\"--- Loading Teacher Model ({teacher_base_model_name} + LoRA) ---\")\n",
    "teacher_model = None\n",
    "if os.path.exists(TEACHER_ADAPTER_PATH):\n",
    "    try:\n",
    "        print(f\"Loading teacher base model: {teacher_base_model_name}\")\n",
    "        teacher_config = AutoConfig.from_pretrained(teacher_base_model_name, num_labels=num_labels, id2label=id2label, label2id=label2id)\n",
    "        teacher_base_model = AutoModelForSequenceClassification.from_pretrained(teacher_base_model_name, config=teacher_config)\n",
    "\n",
    "        print(f\"Loading teacher LoRA adapter from: {TEACHER_ADAPTER_PATH}\")\n",
    "        # Load the PEFT adapter onto the base model\n",
    "        teacher_model = PeftModel.from_pretrained(teacher_base_model, TEACHER_ADAPTER_PATH)\n",
    "\n",
    "        teacher_model.to(device)\n",
    "        teacher_model.eval()\n",
    "        for param in teacher_model.parameters(): # Freeze teacher\n",
    "            param.requires_grad = False\n",
    "        print(\"Teacher model loaded, frozen, and set to eval mode.\")\n",
    "        gc.collect(); torch.cuda.empty_cache()\n",
    "    except Exception as e:\n",
    "        print(f\"ERROR loading teacher model: {e}. Distillation will be disabled.\")\n",
    "        teacher_model = None\n",
    "        traceback.print_exc()\n",
    "else:\n",
    "    print(f\"WARNING: Teacher model path not found: {TEACHER_ADAPTER_PATH}. Distillation will be disabled.\")"
   ]
  },
  {
   "cell_type": "code",
   "execution_count": 85,
   "metadata": {
    "_cell_guid": "567b509c-fbb7-439f-a29f-91a7299def78",
    "_uuid": "8307672a-b944-46f2-b63e-023f32cd5679",
    "collapsed": false,
    "execution": {
     "iopub.execute_input": "2025-04-18T19:35:45.850642Z",
     "iopub.status.busy": "2025-04-18T19:35:45.850434Z",
     "iopub.status.idle": "2025-04-18T19:35:46.072027Z",
     "shell.execute_reply": "2025-04-18T19:35:46.071322Z",
     "shell.execute_reply.started": "2025-04-18T19:35:45.850627Z"
    },
    "jupyter": {
     "outputs_hidden": false
    },
    "trusted": true
   },
   "outputs": [
    {
     "name": "stderr",
     "output_type": "stream",
     "text": [
      "Some weights of RobertaForSequenceClassification were not initialized from the model checkpoint at roberta-base and are newly initialized: ['classifier.dense.bias', 'classifier.dense.weight', 'classifier.out_proj.bias', 'classifier.out_proj.weight']\n",
      "You should probably TRAIN this model on a down-stream task to be able to use it for predictions and inference.\n"
     ]
    },
    {
     "name": "stdout",
     "output_type": "stream",
     "text": [
      "Initializing STUDENT model: roberta-base + LoRA\n",
      "Applying STUDENT LoRA config: r=2, alpha=4, dropout=0.05, targets=['query']\n",
      "Student LoRA model prepared.\n",
      "trainable params: 630,532 || all params: 125,279,240 || trainable%: 0.5033\n"
     ]
    }
   ],
   "source": [
    "# --- Prepare STUDENT Model (roberta-base + LoRA) ---\n",
    "print(f\"Initializing STUDENT model: {student_base_model_name} + LoRA\")\n",
    "student_base_model = AutoModelForSequenceClassification.from_pretrained(\n",
    "    student_base_model_name,\n",
    "    num_labels=num_labels,\n",
    "    id2label=id2label,\n",
    "    label2id=label2id\n",
    ")\n",
    "print(f\"Applying STUDENT LoRA config: r={LORA_R}, alpha={LORA_ALPHA}, dropout={LORA_DROPOUT}, targets={LORA_TARGET_MODULES}\")\n",
    "student_lora_config = LoraConfig(\n",
    "    task_type=TaskType.SEQ_CLS,\n",
    "    r=LORA_R,\n",
    "    lora_alpha=LORA_ALPHA,\n",
    "    target_modules=LORA_TARGET_MODULES,\n",
    "    lora_dropout=LORA_DROPOUT\n",
    ")\n",
    "student_model = get_peft_model(student_base_model, student_lora_config)\n",
    "print(\"Student LoRA model prepared.\")\n",
    "student_model.print_trainable_parameters()"
   ]
  },
  {
   "cell_type": "code",
   "execution_count": 86,
   "metadata": {
    "_cell_guid": "958a50b4-9ee8-4b79-af48-76be76944d63",
    "_uuid": "80362ddb-7088-4fb8-b373-986a8590f5b3",
    "collapsed": false,
    "execution": {
     "iopub.execute_input": "2025-04-18T19:35:46.073016Z",
     "iopub.status.busy": "2025-04-18T19:35:46.072792Z",
     "iopub.status.idle": "2025-04-18T19:35:46.087135Z",
     "shell.execute_reply": "2025-04-18T19:35:46.086342Z",
     "shell.execute_reply.started": "2025-04-18T19:35:46.072999Z"
    },
    "jupyter": {
     "outputs_hidden": false
    },
    "trusted": true
   },
   "outputs": [],
   "source": [
    "# --- Define DistillationTrainer --- #\n",
    "class DistillationTrainer(Trainer):\n",
    "    def __init__(self, *args, teacher_model=None, class_weights=None,\n",
    "                 distillation_alpha=0.5, distillation_temp=2.0, adversarial_epsilon=0.0, **kwargs):\n",
    "        super().__init__(*args, **kwargs)\n",
    "        self.teacher_model = teacher_model\n",
    "        self.class_weights = class_weights\n",
    "        self.distillation_alpha = distillation_alpha\n",
    "        self.distillation_temp = distillation_temp\n",
    "        self.adversarial_epsilon = adversarial_epsilon \n",
    "\n",
    "        if self.teacher_model is not None:\n",
    "            self._move_model_to_device(self.teacher_model, self.args.device)\n",
    "            self.teacher_model.eval()\n",
    "            print(f\"DistillationTrainer: Teacher ready on device {self.teacher_model.device}\")\n",
    "        else: print(\"DistillationTrainer: No Teacher model.\")\n",
    "        if self.class_weights is not None: print(f\"DistillationTrainer: Using class weights.\")\n",
    "        print(f\"DistillationTrainer: alpha={self.distillation_alpha}, temp={self.distillation_temp}, adv_eps={self.adversarial_epsilon}\")\n",
    "\n",
    "    def compute_loss(self, model, inputs, return_outputs=False, **kwargs):\n",
    "        # `model` is the STUDENT model being trained\n",
    "        labels = inputs.pop(\"labels\").clone() if \"labels\" in inputs else None\n",
    "        if labels is None: raise ValueError(\"Labels are required.\")\n",
    "\n",
    "        # --- Student Forward Pass (for hard loss and student logits) ---\n",
    "        outputs_student = model(**inputs)\n",
    "        logits_student = outputs_student.logits\n",
    "\n",
    "        # --- Calculate Hard Loss (Weighted CE + FGM Adversarial) ---\n",
    "        loss_weights = self.class_weights.to(logits_student.device) if self.class_weights is not None else None\n",
    "        loss_fct = torch.nn.CrossEntropyLoss(weight=loss_weights)\n",
    "        original_loss_student = loss_fct(logits_student.view(-1, model.config.num_labels), labels.view(-1))\n",
    "\n",
    "        hard_loss = original_loss_student\n",
    "        adv_loss_student = torch.tensor(0.0).to(self.args.device)\n",
    "\n",
    "        if self.is_in_train and self.adversarial_epsilon > 0:\n",
    "            try: # --- FGM Logic (Using autograd.grad for robustness) ---\n",
    "                input_ids = inputs.get(\"input_ids\")\n",
    "                embedding_layer = model.get_input_embeddings()\n",
    "                original_embeddings = embedding_layer(input_ids)\n",
    "                original_embeddings_detached = original_embeddings.detach().clone()\n",
    "                embeds_for_grad = original_embeddings_detached.clone().requires_grad_(True)\n",
    "                temp_inputs = inputs.copy(); temp_inputs[\"inputs_embeds\"] = embeds_for_grad; temp_inputs[\"input_ids\"] = None\n",
    "                with torch.enable_grad():\n",
    "                    # Need a forward pass here to compute gradients w.r.t embeds_for_grad\n",
    "                    # This uses the *student* model to calculate the gradient direction\n",
    "                    temp_outputs = model(**temp_inputs)\n",
    "                    temp_logits = temp_outputs.logits\n",
    "                    # Use the same weighted loss for gradient calculation\n",
    "                    temp_loss = loss_fct(temp_logits.view(-1, model.config.num_labels), labels.view(-1))\n",
    "                embed_grads = torch.autograd.grad(temp_loss, embeds_for_grad, retain_graph=False, create_graph=False)[0]\n",
    "                if embed_grads is None: raise RuntimeError(\"FGM grad failed using autograd.grad.\")\n",
    "                # --- Calculate Perturbation ---\n",
    "                norm = torch.norm(embed_grads, p=2, dim=-1, keepdim=True) + 1e-8\n",
    "                delta = embed_grads / norm\n",
    "                perturbation = self.adversarial_epsilon * delta\n",
    "                # --- Adversarial Forward Pass (Student) ---\n",
    "                perturbed_embeddings = original_embeddings_detached + perturbation\n",
    "                adv_inputs = inputs.copy(); adv_inputs[\"inputs_embeds\"] = perturbed_embeddings; adv_inputs[\"input_ids\"] = None\n",
    "                adv_outputs = model(**adv_inputs); adv_logits = adv_outputs.logits\n",
    "                adv_loss_student = loss_fct(adv_logits.view(-1, model.config.num_labels), labels.view(-1))\n",
    "                # --- Update Hard Loss ---\n",
    "                hard_loss = original_loss_student + adv_loss_student # Add adversarial loss\n",
    "            except Exception as e:\n",
    "                print(f\"WARNING: FGM step failed: {e}. Using original loss only for hard component.\")\n",
    "                hard_loss = original_loss_student # Fallback\n",
    "\n",
    "        # --- Distillation Loss ---\n",
    "        loss_distill = torch.tensor(0.0).to(self.args.device)\n",
    "        if self.teacher_model is not None and self.is_in_train:\n",
    "            with torch.no_grad(): # Teacher inference without gradients\n",
    "                teacher_inputs = inputs.copy()\n",
    "                outputs_teacher = self.teacher_model(**teacher_inputs)\n",
    "                logits_teacher = outputs_teacher.logits.detach()\n",
    "\n",
    "            loss_distill = F.kl_div(\n",
    "                F.log_softmax(logits_student / self.distillation_temp, dim=-1),\n",
    "                F.softmax(logits_teacher / self.distillation_temp, dim=-1),\n",
    "                reduction='batchmean'\n",
    "            ) * (self.distillation_temp ** 2)\n",
    "\n",
    "        # --- Combine Losses ---\n",
    "        total_loss = (self.distillation_alpha * hard_loss) + ((1.0 - self.distillation_alpha) * loss_distill)\n",
    "\n",
    "        # Add labels back\n",
    "        inputs[\"labels\"] = labels\n",
    "        return (total_loss, outputs_student) if return_outputs else total_loss\n",
    "# --- End Distillation Trainer Class ---"
   ]
  },
  {
   "cell_type": "code",
   "execution_count": 87,
   "metadata": {
    "_cell_guid": "2f292bf0-6b6b-4167-86ac-ea504317b038",
    "_uuid": "4686dc72-cfc8-49c0-ac96-17889a5c3d9b",
    "collapsed": false,
    "execution": {
     "iopub.execute_input": "2025-04-18T19:35:46.088211Z",
     "iopub.status.busy": "2025-04-18T19:35:46.088014Z",
     "iopub.status.idle": "2025-04-18T19:35:46.105510Z",
     "shell.execute_reply": "2025-04-18T19:35:46.104819Z",
     "shell.execute_reply.started": "2025-04-18T19:35:46.088186Z"
    },
    "jupyter": {
     "outputs_hidden": false
    },
    "trusted": true
   },
   "outputs": [],
   "source": [
    "# --- Define Metrics, Collator, Callbacks ---\n",
    "def compute_metrics(eval_preds): logits, labels = eval_preds; predictions = np.argmax(logits, axis=-1); acc = accuracy_score(labels, predictions); f1 = f1_score(labels, predictions, average='weighted'); return {\"accuracy\": acc, \"f1\": f1}\n",
    "data_collator = DataCollatorWithPadding(tokenizer=tokenizer, return_tensors=\"pt\")\n",
    "class MetricsCollectorCallback(TrainerCallback):\n",
    "    def __init__(self): self.logs = []\n",
    "    def on_log(self, args, state, control, logs=None, **kwargs):\n",
    "        if logs is not None: self.logs.append((state.global_step, logs))\n",
    "        return control\n",
    "metrics_collector = MetricsCollectorCallback()"
   ]
  },
  {
   "cell_type": "code",
   "execution_count": 88,
   "metadata": {
    "_cell_guid": "e6cfe6c9-3527-412e-91e6-b5cad918d66f",
    "_uuid": "0379a9db-6ec4-46c6-89cd-15d30b3f1963",
    "collapsed": false,
    "execution": {
     "iopub.execute_input": "2025-04-18T19:35:46.106661Z",
     "iopub.status.busy": "2025-04-18T19:35:46.106386Z",
     "iopub.status.idle": "2025-04-18T19:35:46.148400Z",
     "shell.execute_reply": "2025-04-18T19:35:46.147719Z",
     "shell.execute_reply.started": "2025-04-18T19:35:46.106639Z"
    },
    "jupyter": {
     "outputs_hidden": false
    },
    "trusted": true
   },
   "outputs": [
    {
     "name": "stdout",
     "output_type": "stream",
     "text": [
      "Defining Final Training Arguments for Student Distillation...\n"
     ]
    }
   ],
   "source": [
    "# --- Define FINAL Training Arguments for Student ---\n",
    "print(\"Defining Final Training Arguments for Student Distillation...\")\n",
    "training_args = TrainingArguments(\n",
    "    output_dir=output_dir_student,\n",
    "    eval_strategy=\"steps\",\n",
    "    eval_steps=500,\n",
    "    logging_steps=100,\n",
    "    save_steps=500,\n",
    "    save_total_limit=2, # Keep best 2 student checkpoints\n",
    "\n",
    "    # --- Parameters ---\n",
    "    learning_rate=6.5e-5,\n",
    "    lr_scheduler_type=SchedulerType.COSINE,\n",
    "    warmup_ratio=0.1,\n",
    "    gradient_accumulation_steps=2, # Effective batch = 16*2=32\n",
    "    num_train_epochs=1,\n",
    "    weight_decay=0.1,\n",
    "\n",
    "    per_device_train_batch_size=16,\n",
    "    per_device_eval_batch_size=64,\n",
    "    load_best_model_at_end=True,\n",
    "    metric_for_best_model=\"accuracy\",\n",
    "    greater_is_better=True,\n",
    "    fp16=torch.cuda.is_available(),\n",
    "    dataloader_num_workers=2,\n",
    "    report_to=[],\n",
    "    logging_first_step=True,\n",
    "    logging_dir=f\"{output_dir_student}/logs\"\n",
    ")"
   ]
  },
  {
   "cell_type": "code",
   "execution_count": 89,
   "metadata": {
    "_cell_guid": "0f390fea-0e0a-4286-9ee8-e413ad16db8c",
    "_uuid": "17a59996-6ae9-49b4-b44a-2f4877313173",
    "collapsed": false,
    "execution": {
     "iopub.execute_input": "2025-04-18T19:35:46.149262Z",
     "iopub.status.busy": "2025-04-18T19:35:46.149084Z",
     "iopub.status.idle": "2025-04-18T19:35:46.356780Z",
     "shell.execute_reply": "2025-04-18T19:35:46.356103Z",
     "shell.execute_reply.started": "2025-04-18T19:35:46.149247Z"
    },
    "jupyter": {
     "outputs_hidden": false
    },
    "trusted": true
   },
   "outputs": [
    {
     "name": "stderr",
     "output_type": "stream",
     "text": [
      "/tmp/ipykernel_31/1762601069.py:5: FutureWarning: `tokenizer` is deprecated and will be removed in version 5.0.0 for `DistillationTrainer.__init__`. Use `processing_class` instead.\n",
      "  super().__init__(*args, **kwargs)\n"
     ]
    },
    {
     "name": "stdout",
     "output_type": "stream",
     "text": [
      "Initializing Distillation Trainer for Student Model...\n"
     ]
    },
    {
     "name": "stderr",
     "output_type": "stream",
     "text": [
      "No label_names provided for model class `PeftModelForSequenceClassification`. Since `PeftModel` hides base models input arguments, if label_names is not given, label_names can't be set automatically within `Trainer`. Note that empty label_names list will be used instead.\n"
     ]
    },
    {
     "name": "stdout",
     "output_type": "stream",
     "text": [
      "DistillationTrainer: Teacher ready on device cuda:0\n",
      "DistillationTrainer: Using class weights.\n",
      "DistillationTrainer: alpha=0.5, temp=2.0, adv_eps=1.5\n",
      "Distillation Trainer initialized.\n"
     ]
    }
   ],
   "source": [
    "# --- Initialize Distillation Trainer ---\n",
    "print(\"Initializing Distillation Trainer for Student Model...\")\n",
    "if 'class_weights_tensor' not in locals(): class_weights_tensor = None\n",
    "if 'train_dataset_for_final_run' not in locals(): raise NameError(\"Final training dataset not defined.\")\n",
    "if 'teacher_model' not in locals(): raise NameError(\"Teacher model not loaded/defined.\")\n",
    "if 'student_model' not in locals(): raise NameError(\"Student model not initialized.\")\n",
    "\n",
    "trainer = DistillationTrainer(\n",
    "    model=student_model,               # STUDENT PeftModel\n",
    "    teacher_model=teacher_model,       # Loaded LoRA Teacher\n",
    "    args=training_args,\n",
    "    distillation_alpha=DISTILLATION_ALPHA,\n",
    "    distillation_temp=DISTILLATION_TEMP,\n",
    "    adversarial_epsilon=ADVERSARIAL_EPSILON,\n",
    "    class_weights=class_weights_tensor, # Pass calculated weights\n",
    "    data_collator=data_collator,\n",
    "    train_dataset=train_dataset_for_final_run, # Final masked training data (Orig+Aug)\n",
    "    eval_dataset=eval_dataset_for_final_run,                 # Validation split from train data\n",
    "    tokenizer=tokenizer,\n",
    "    compute_metrics=compute_metrics,\n",
    "    callbacks=[metrics_collector],            \n",
    ")\n",
    "print(\"Distillation Trainer initialized.\")"
   ]
  },
  {
   "cell_type": "code",
   "execution_count": 90,
   "metadata": {
    "_cell_guid": "94d30ca4-1ae9-4432-bf34-a6db048f9312",
    "_uuid": "144df482-fe61-4373-8d5d-6bad50e47e2c",
    "collapsed": false,
    "execution": {
     "iopub.execute_input": "2025-04-18T19:35:46.357818Z",
     "iopub.status.busy": "2025-04-18T19:35:46.357532Z",
     "iopub.status.idle": "2025-04-18T23:19:15.417354Z",
     "shell.execute_reply": "2025-04-18T23:19:15.416355Z",
     "shell.execute_reply.started": "2025-04-18T19:35:46.357783Z"
    },
    "jupyter": {
     "outputs_hidden": false
    },
    "trusted": true
   },
   "outputs": [
    {
     "name": "stdout",
     "output_type": "stream",
     "text": [
      "Attempting NumPy allowlist...\n",
      "Added NumPy components: ['_reconstruct', 'UInt32DType', 'ndarray', 'dtype']\n",
      "Starting Student Model Training with Distillation...\n"
     ]
    },
    {
     "data": {
      "text/html": [
       "\n",
       "    <div>\n",
       "      \n",
       "      <progress value='6459' max='6459' style='width:300px; height:20px; vertical-align: middle;'></progress>\n",
       "      [6459/6459 3:43:27, Epoch 0/1]\n",
       "    </div>\n",
       "    <table border=\"1\" class=\"dataframe\">\n",
       "  <thead>\n",
       " <tr style=\"text-align: left;\">\n",
       "      <th>Step</th>\n",
       "      <th>Training Loss</th>\n",
       "      <th>Validation Loss</th>\n",
       "      <th>Accuracy</th>\n",
       "      <th>F1</th>\n",
       "    </tr>\n",
       "  </thead>\n",
       "  <tbody>\n",
       "    <tr>\n",
       "      <td>500</td>\n",
       "      <td>1.934700</td>\n",
       "      <td>1.780804</td>\n",
       "      <td>0.884356</td>\n",
       "      <td>0.882081</td>\n",
       "    </tr>\n",
       "    <tr>\n",
       "      <td>1000</td>\n",
       "      <td>0.907100</td>\n",
       "      <td>0.842550</td>\n",
       "      <td>0.925632</td>\n",
       "      <td>0.925381</td>\n",
       "    </tr>\n",
       "    <tr>\n",
       "      <td>1500</td>\n",
       "      <td>0.828700</td>\n",
       "      <td>0.764826</td>\n",
       "      <td>0.929464</td>\n",
       "      <td>0.929214</td>\n",
       "    </tr>\n",
       "    <tr>\n",
       "      <td>2000</td>\n",
       "      <td>0.779800</td>\n",
       "      <td>0.718939</td>\n",
       "      <td>0.931772</td>\n",
       "      <td>0.931551</td>\n",
       "    </tr>\n",
       "    <tr>\n",
       "      <td>2500</td>\n",
       "      <td>0.739500</td>\n",
       "      <td>0.689612</td>\n",
       "      <td>0.935081</td>\n",
       "      <td>0.934953</td>\n",
       "    </tr>\n",
       "    <tr>\n",
       "      <td>3000</td>\n",
       "      <td>0.730500</td>\n",
       "      <td>0.667282</td>\n",
       "      <td>0.935865</td>\n",
       "      <td>0.935718</td>\n",
       "    </tr>\n",
       "    <tr>\n",
       "      <td>3500</td>\n",
       "      <td>0.694200</td>\n",
       "      <td>0.652919</td>\n",
       "      <td>0.936518</td>\n",
       "      <td>0.936392</td>\n",
       "    </tr>\n",
       "    <tr>\n",
       "      <td>4000</td>\n",
       "      <td>0.678900</td>\n",
       "      <td>0.644869</td>\n",
       "      <td>0.937824</td>\n",
       "      <td>0.937702</td>\n",
       "    </tr>\n",
       "    <tr>\n",
       "      <td>4500</td>\n",
       "      <td>0.683500</td>\n",
       "      <td>0.635481</td>\n",
       "      <td>0.937780</td>\n",
       "      <td>0.937638</td>\n",
       "    </tr>\n",
       "    <tr>\n",
       "      <td>5000</td>\n",
       "      <td>0.665800</td>\n",
       "      <td>0.631356</td>\n",
       "      <td>0.938129</td>\n",
       "      <td>0.938011</td>\n",
       "    </tr>\n",
       "    <tr>\n",
       "      <td>5500</td>\n",
       "      <td>0.678800</td>\n",
       "      <td>0.630113</td>\n",
       "      <td>0.938390</td>\n",
       "      <td>0.938267</td>\n",
       "    </tr>\n",
       "    <tr>\n",
       "      <td>6000</td>\n",
       "      <td>0.660100</td>\n",
       "      <td>0.629404</td>\n",
       "      <td>0.938390</td>\n",
       "      <td>0.938269</td>\n",
       "    </tr>\n",
       "  </tbody>\n",
       "</table><p>"
      ],
      "text/plain": [
       "<IPython.core.display.HTML object>"
      ]
     },
     "metadata": {},
     "output_type": "display_data"
    },
    {
     "name": "stdout",
     "output_type": "stream",
     "text": [
      "Student training finished.\n",
      "--- Student Training Metrics ---\n",
      "train_runtime: 13408.5375\n",
      "train_samples_per_second: 15.415\n",
      "train_steps_per_second: 0.482\n",
      "total_flos: 1.0032661656e+16\n",
      "train_loss: 0.854914902496456\n",
      "epoch: 0.9999225946280672\n",
      "Student Training Duration: 13409.05 seconds\n"
     ]
    }
   ],
   "source": [
    "# --- Train the Student Model ---\n",
    "import torch.serialization; import numpy.core.multiarray\n",
    "try: from numpy.dtypes import UInt32DType\n",
    "except ImportError: UInt32DType = None\n",
    "safe_numpy_globals = []; print(\"Attempting NumPy allowlist...\")\n",
    "try:\n",
    "    safe_numpy_globals.append(np.core.multiarray._reconstruct)\n",
    "    safe_numpy_globals.append(np.ndarray); safe_numpy_globals.append(np.dtype)\n",
    "    if UInt32DType: safe_numpy_globals.append(UInt32DType)\n",
    "    else: safe_numpy_globals.append(np.uint32)\n",
    "    safe_numpy_globals = list(set(safe_numpy_globals))\n",
    "    torch.serialization.add_safe_globals(safe_numpy_globals)\n",
    "    print(f\"Added NumPy components: {[c.__name__ if hasattr(c, '__name__') else str(c) for c in safe_numpy_globals]}\")\n",
    "except Exception as e_gen: print(f\"WARNING: Error setting safe globals for numpy: {e_gen}\")\n",
    "\n",
    "\n",
    "print(\"Starting Student Model Training with Distillation...\")\n",
    "start_train_time = time.time()\n",
    "try:\n",
    "    # Train fresh student model\n",
    "    train_result = trainer.train(resume_from_checkpoint=None)\n",
    "    print(\"Student training finished.\")\n",
    "    metrics = train_result.metrics\n",
    "    print(\"--- Student Training Metrics ---\")\n",
    "    for key, value in metrics.items(): print(f\"{key}: {value}\")\n",
    "    trainer.save_metrics(\"train\", metrics)\n",
    "except Exception as e: print(f\"ERROR during student training: {e}\"); traceback.print_exc(); raise e\n",
    "end_train_time = time.time()\n",
    "print(f\"Student Training Duration: {end_train_time - start_train_time:.2f} seconds\")"
   ]
  },
  {
   "cell_type": "code",
   "execution_count": 95,
   "metadata": {
    "_cell_guid": "c9492025-60b2-48f9-aaae-3aaabe8d59c4",
    "_uuid": "408657e9-2927-4612-8cb2-20c49c95fd3c",
    "collapsed": false,
    "execution": {
     "iopub.execute_input": "2025-04-18T23:20:46.372106Z",
     "iopub.status.busy": "2025-04-18T23:20:46.371920Z",
     "iopub.status.idle": "2025-04-18T23:20:46.707249Z",
     "shell.execute_reply": "2025-04-18T23:20:46.706640Z",
     "shell.execute_reply.started": "2025-04-18T23:20:46.372090Z"
    },
    "jupyter": {
     "outputs_hidden": false
    },
    "trusted": true
   },
   "outputs": [
    {
     "name": "stdout",
     "output_type": "stream",
     "text": [
      "\n",
      "Saving the best student model adapter identified during training to /kaggle/working/agnews_best_student_distill_3...\n",
      "Best student adapter, tokenizer, and training args saved.\n"
     ]
    }
   ],
   "source": [
    "# --- Save the Final Student Model Adapter ---\n",
    "print(f\"\\nSaving the best student model adapter identified during training to {final_student_model_save_path}...\")\n",
    "try:\n",
    "    trainer.save_model(final_student_model_save_path) # Saves student adapter\n",
    "    tokenizer.save_pretrained(final_student_model_save_path) # Save tokenizer\n",
    "    final_args_path = os.path.join(final_student_model_save_path, \"student_training_args.json\")\n",
    "    with open(final_args_path, 'w') as f: f.write(training_args.to_json_string())\n",
    "    print(f\"Best student adapter, tokenizer, and training args saved.\")\n",
    "except Exception as e: print(f\"ERROR saving final student adapter: {e}\")"
   ]
  },
  {
   "cell_type": "code",
   "execution_count": 92,
   "metadata": {
    "_cell_guid": "162e1860-8530-48b4-99c0-a656dfbd9808",
    "_uuid": "5876a8a5-1a28-449c-9d75-352fe671d48f",
    "collapsed": false,
    "execution": {
     "iopub.execute_input": "2025-04-18T23:19:15.733908Z",
     "iopub.status.busy": "2025-04-18T23:19:15.733700Z",
     "iopub.status.idle": "2025-04-18T23:20:39.533509Z",
     "shell.execute_reply": "2025-04-18T23:20:39.532679Z",
     "shell.execute_reply.started": "2025-04-18T23:19:15.733883Z"
    },
    "jupyter": {
     "outputs_hidden": false
    },
    "trusted": true
   },
   "outputs": [
    {
     "name": "stdout",
     "output_type": "stream",
     "text": [
      "\n",
      "Running final evaluation on the validation set for the Student Model...\n"
     ]
    },
    {
     "data": {
      "text/html": [
       "\n",
       "    <div>\n",
       "      \n",
       "      <progress value='359' max='359' style='width:300px; height:20px; vertical-align: middle;'></progress>\n",
       "      [359/359 01:23]\n",
       "    </div>\n",
       "    "
      ],
      "text/plain": [
       "<IPython.core.display.HTML object>"
      ]
     },
     "metadata": {},
     "output_type": "display_data"
    },
    {
     "name": "stdout",
     "output_type": "stream",
     "text": [
      "--- Student Final Validation Metrics ---\n",
      "eval_loss: 0.1039804145693779\n",
      "eval_accuracy: 0.9383898637175078\n",
      "eval_f1: 0.9382669087329296\n",
      "eval_runtime: 83.7853\n",
      "eval_samples_per_second: 274.117\n",
      "eval_steps_per_second: 4.285\n",
      "epoch: 0.9999225946280672\n"
     ]
    }
   ],
   "source": [
    "# --- Evaluate Student on Validation Set ---\n",
    "print(\"\\nRunning final evaluation on the validation set for the Student Model...\")\n",
    "try:\n",
    "    eval_metrics = trainer.evaluate(eval_dataset=eval_dataset_for_final_run)\n",
    "    print(\"--- Student Final Validation Metrics ---\")\n",
    "    for key, value in eval_metrics.items(): print(f\"{key}: {value}\")\n",
    "    trainer.save_metrics(\"eval\", eval_metrics)\n",
    "except Exception as e: print(f\"ERROR during final student evaluation: {e}\")"
   ]
  },
  {
   "cell_type": "code",
   "execution_count": 93,
   "metadata": {
    "_cell_guid": "580e587f-9cc8-4ecd-86e1-8bf786eaffec",
    "_uuid": "659662ad-ecf9-4cdf-b085-ee2efa7ba710",
    "collapsed": false,
    "execution": {
     "iopub.execute_input": "2025-04-18T23:20:39.535012Z",
     "iopub.status.busy": "2025-04-18T23:20:39.534704Z",
     "iopub.status.idle": "2025-04-18T23:20:40.829451Z",
     "shell.execute_reply": "2025-04-18T23:20:40.828796Z",
     "shell.execute_reply.started": "2025-04-18T23:20:39.534976Z"
    },
    "jupyter": {
     "outputs_hidden": false
    },
    "trusted": true
   },
   "outputs": [
    {
     "name": "stdout",
     "output_type": "stream",
     "text": [
      "\n",
      "Plotting training history...\n"
     ]
    },
    {
     "data": {
      "image/png": "[encoded data removed]",
      "text/plain": [
       "<Figure size 1000x1000 with 2 Axes>"
      ]
     },
     "metadata": {},
     "output_type": "display_data"
    },
    {
     "name": "stdout",
     "output_type": "stream",
     "text": [
      "INFO: Plot saved to training_validation_metrics.png\n"
     ]
    }
   ],
   "source": [
    "# --- Plotting Training History ---\n",
    "print(\"\\nPlotting training history...\")\n",
    "try:\n",
    "    train_steps, train_loss, eval_steps, eval_loss, eval_accuracy, eval_f1 = [], [], [], [], [], []\n",
    "    for step, log in metrics_collector.logs:\n",
    "        if \"loss\" in log and \"eval_loss\" not in log:\n",
    "            train_steps.append(step)\n",
    "            train_loss.append(log[\"loss\"])\n",
    "        elif \"eval_loss\" in log:\n",
    "            eval_steps.append(step)\n",
    "            eval_loss.append(log[\"eval_loss\"])\n",
    "            eval_accuracy.append(log.get(\"eval_accuracy\", np.nan))\n",
    "            eval_f1.append(log.get(\"eval_f1\", np.nan))\n",
    "\n",
    "    if not eval_steps:\n",
    "         print(\"No evaluation logs found to plot.\")\n",
    "    else:\n",
    "        fig, axs = plt.subplots(2, 1, figsize=(10, 10), sharex=True)\n",
    "        # Loss Plot\n",
    "        if train_steps: axs[0].plot(train_steps, train_loss, marker='o', linestyle='-', linewidth=1, markersize=3, label=\"Training Loss\")\n",
    "        axs[0].plot(eval_steps, eval_loss, marker='x', linestyle='--', linewidth=1, markersize=5, label=\"Evaluation Loss\")\n",
    "        axs[0].set_ylabel(\"Loss\"); axs[0].set_title(\"Training and Evaluation Loss\"); axs[0].legend(); axs[0].grid(True)\n",
    "        # Accuracy / F1 Plot\n",
    "        axs[1].plot(eval_steps, eval_accuracy, marker='x', linestyle='--', linewidth=1, markersize=5, label=\"Evaluation Accuracy\", color='green')\n",
    "        axs[1].plot(eval_steps, eval_f1, marker='+', linestyle=':', linewidth=1, markersize=6, label=\"Evaluation F1 Score\", color='red')\n",
    "        axs[1].set_xlabel(\"Global Step\"); axs[1].set_ylabel(\"Metric Value\"); axs[1].set_title(\"Evaluation Metrics\"); axs[1].legend(); axs[1].grid(True)\n",
    "        plt.tight_layout(); plt.show()\n",
    "        fig.savefig(\"training_validation_metrics.png\", dpi=300, bbox_inches='tight')\n",
    "        print(\"INFO: Plot saved to training_validation_metrics.png\")\n",
    "except Exception as e:\n",
    "    print(f\"ERROR plotting metrics: {e}\")\n",
    "    traceback.print_exc()"
   ]
  },
  {
   "cell_type": "code",
   "execution_count": 94,
   "metadata": {
    "_cell_guid": "17076a9b-86a9-421d-a627-419321057aac",
    "_uuid": "d3e39641-0507-4ba2-afb3-94f78255d30d",
    "collapsed": false,
    "execution": {
     "iopub.execute_input": "2025-04-18T23:20:40.830371Z",
     "iopub.status.busy": "2025-04-18T23:20:40.830139Z",
     "iopub.status.idle": "2025-04-18T23:20:46.328273Z",
     "shell.execute_reply": "2025-04-18T23:20:46.327618Z",
     "shell.execute_reply.started": "2025-04-18T23:20:40.830353Z"
    },
    "jupyter": {
     "outputs_hidden": false
    },
    "trusted": true
   },
   "outputs": [
    {
     "name": "stdout",
     "output_type": "stream",
     "text": [
      "\n",
      "Setting up for visualization...\n",
      "Model config set to output hidden states.\n",
      "Extracting CLS token embeddings for visualization...\n",
      "Extracting embeddings using device: cuda:0\n",
      "Extracted 300 embeddings.\n",
      "Plotting t-SNE and UMAP...\n"
     ]
    },
    {
     "data": {
      "image/png": "[encoded data removed]",
      "text/plain": [
       "<Figure size 800x600 with 2 Axes>"
      ]
     },
     "metadata": {},
     "output_type": "display_data"
    }
   ],
   "source": [
    "# --- t-SNE Visualization ---\n",
    "print(\"\\nSetting up for visualization...\")\n",
    "try:\n",
    "    trainer.model.config.output_hidden_states = True\n",
    "    print(\"Model config set to output hidden states.\")\n",
    "except Exception as e: print(f\"ERROR setting output_hidden_states: {e}\")\n",
    "\n",
    "print(\"Extracting CLS token embeddings for visualization...\")\n",
    "subset_size = 300\n",
    "if len(eval_dataset_for_final_run) < subset_size: subset_size = len(eval_dataset_for_final_run)\n",
    "features = None; label_list = []\n",
    "if subset_size > 0:\n",
    "    try:\n",
    "        subset_indices = random.sample(range(len(eval_dataset_for_final_run)), subset_size)\n",
    "        subset = eval_dataset_for_final_run.select(subset_indices)\n",
    "        feature_list = []\n",
    "        model_device = trainer.model.device\n",
    "        print(f\"Extracting embeddings using device: {model_device}\")\n",
    "        for sample in subset:\n",
    "            input_ids = torch.tensor(sample[\"input_ids\"]).unsqueeze(0).to(model_device)\n",
    "            attention_mask = torch.tensor(sample[\"attention_mask\"]).unsqueeze(0).to(model_device)\n",
    "            with torch.no_grad(): outputs = trainer.model(input_ids=input_ids, attention_mask=attention_mask)\n",
    "            if hasattr(outputs, 'hidden_states') and outputs.hidden_states is not None:\n",
    "                 hidden_state = outputs.hidden_states[-1]; cls_embedding = hidden_state[0, 0, :].cpu().numpy()\n",
    "                 feature_list.append(cls_embedding); label_list.append(sample[\"labels\"])\n",
    "            else: print(\"WARNING: Could not get hidden_states for sample.\")\n",
    "        if feature_list: features = np.array(feature_list); print(f\"Extracted {len(features)} embeddings.\")\n",
    "        else: print(\"WARNING: No features were extracted.\")\n",
    "    except Exception as e: print(f\"ERROR extracting embeddings: {e}\")\n",
    "else: print(\"WARNING: Evaluation dataset too small, skipping visualization.\")\n",
    "\n",
    "print(\"Plotting t-SNE and UMAP...\")\n",
    "if features is not None and features.shape[0] > 1:\n",
    "    try:\n",
    "        tsne = TSNE(n_components=2, random_state=42, perplexity=min(30, features.shape[0] - 1))\n",
    "        features_2d_tsne = tsne.fit_transform(features); plt.figure(figsize=(8, 6))\n",
    "        scatter = plt.scatter(features_2d_tsne[:, 0], features_2d_tsne[:, 1], c=label_list, cmap=\"viridis\", alpha=0.7)\n",
    "        cbar = plt.colorbar(scatter, label=\"Class Label\", ticks=range(len(class_names))); cbar.ax.set_yticklabels(class_names)\n",
    "        plt.title(\"t-SNE Visualization\"); plt.xlabel(\"t-SNE Comp 1\"); plt.ylabel(\"t-SNE Comp 2\");\n",
    "        plt.show()\n",
    "    except Exception as e: print(f\"ERROR in t-SNE: {e}\")\n",
    "else: print(\"Skipping plots (not enough features extracted).\")"
   ]
  }
 ],
 "metadata": {
  "kaggle": {
   "accelerator": "gpu",
   "dataSources": [
    {
     "databundleVersionId": 11711500,
     "isSourceIdPinned": false,
     "sourceId": 98084,
     "sourceType": "competition"
    },
    {
     "datasetId": 7146514,
     "sourceId": 11408837,
     "sourceType": "datasetVersion"
    },
    {
     "datasetId": 7146525,
     "sourceId": 11408863,
     "sourceType": "datasetVersion"
    },
    {
     "isSourceIdPinned": true,
     "modelId": 307773,
     "modelInstanceId": 286956,
     "sourceId": 343054,
     "sourceType": "modelInstanceVersion"
    }
   ],
   "dockerImageVersionId": 31011,
   "isGpuEnabled": true,
   "isInternetEnabled": true,
   "language": "python",
   "sourceType": "notebook"
  },
  "kernelspec": {
   "display_name": "Python 3",
   "language": "python",
   "name": "python3"
  },
  "language_info": {
   "codemirror_mode": {
    "name": "ipython",
    "version": 3
   },
   "file_extension": ".py",
   "mimetype": "text/x-python",
   "name": "python",
   "nbconvert_exporter": "python",
   "pygments_lexer": "ipython3",
   "version": "3.11.11"
  }
 },
 "nbformat": 4,
 "nbformat_minor": 4
}
